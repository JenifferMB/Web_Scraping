{
 "cells": [
  {
   "cell_type": "code",
   "execution_count": 52,
   "id": "813cce8e",
   "metadata": {},
   "outputs": [],
   "source": [
    "from bs4 import BeautifulSoup\n",
    "import pandas as pd\n",
    "import requests\n",
    "import re \n",
    "from datetime import datetime"
   ]
  },
  {
   "cell_type": "code",
   "execution_count": 53,
   "id": "07a37cca",
   "metadata": {},
   "outputs": [
    {
     "name": "stdout",
     "output_type": "stream",
     "text": [
      "<Response [200]>\n"
     ]
    }
   ],
   "source": [
    "URL = 'https://hiraoka.com.pe/computo-y-tecnologia/computadoras/laptops'\n",
    "page = requests.get(URL)\n",
    "print(page)"
   ]
  },
  {
   "cell_type": "code",
   "execution_count": 54,
   "id": "e3a3e61f",
   "metadata": {},
   "outputs": [
    {
     "name": "stdout",
     "output_type": "stream",
     "text": [
      "[<span class=\"special-price\">\n",
      "<span class=\"price-container price-final_price tax weee\">\n",
      "<span class=\"price-label\">Precio especial</span>\n",
      "<span class=\"price-wrapper\" data-price-amount=\"2599\" data-price-type=\"finalPrice\" id=\"product-price-74120\"><span class=\"price\">S/  2,599.00</span></span>\n",
      "</span>\n",
      "</span>, <span class=\"special-price\">\n",
      "<span class=\"price-container price-final_price tax weee\">\n",
      "<span class=\"price-label\">Precio especial</span>\n",
      "<span class=\"price-wrapper\" data-price-amount=\"1799\" data-price-type=\"finalPrice\" id=\"product-price-70693\"><span class=\"price\">S/  1,799.00</span></span>\n",
      "</span>\n",
      "</span>, <span class=\"special-price\">\n",
      "<span class=\"price-container price-final_price tax weee\">\n",
      "<span class=\"price-label\">Precio especial</span>\n",
      "<span class=\"price-wrapper\" data-price-amount=\"2349\" data-price-type=\"finalPrice\" id=\"product-price-73847\"><span class=\"price\">S/  2,349.00</span></span>\n",
      "</span>\n",
      "</span>, <span class=\"special-price\">\n",
      "<span class=\"price-container price-final_price tax weee\">\n",
      "<span class=\"price-label\">Precio especial</span>\n",
      "<span class=\"price-wrapper\" data-price-amount=\"1949\" data-price-type=\"finalPrice\" id=\"product-price-69008\"><span class=\"price\">S/  1,949.00</span></span>\n",
      "</span>\n",
      "</span>, <span class=\"special-price\">\n",
      "<span class=\"price-container price-final_price tax weee\">\n",
      "<span class=\"price-label\">Precio especial</span>\n",
      "<span class=\"price-wrapper\" data-price-amount=\"2999\" data-price-type=\"finalPrice\" id=\"product-price-66605\"><span class=\"price\">S/  2,999.00</span></span>\n",
      "</span>\n",
      "</span>, <span class=\"special-price\">\n",
      "<span class=\"price-container price-final_price tax weee\">\n",
      "<span class=\"price-label\">Precio especial</span>\n",
      "<span class=\"price-wrapper\" data-price-amount=\"6499\" data-price-type=\"finalPrice\" id=\"product-price-73739\"><span class=\"price\">S/  6,499.00</span></span>\n",
      "</span>\n",
      "</span>, <span class=\"special-price\">\n",
      "<span class=\"price-container price-final_price tax weee\">\n",
      "<span class=\"price-label\">Precio especial</span>\n",
      "<span class=\"price-wrapper\" data-price-amount=\"1399\" data-price-type=\"finalPrice\" id=\"product-price-74213\"><span class=\"price\">S/  1,399.00</span></span>\n",
      "</span>\n",
      "</span>, <span class=\"special-price\">\n",
      "<span class=\"price-container price-final_price tax weee\">\n",
      "<span class=\"price-label\">Precio especial</span>\n",
      "<span class=\"price-wrapper\" data-price-amount=\"3099\" data-price-type=\"finalPrice\" id=\"product-price-66485\"><span class=\"price\">S/  3,099.00</span></span>\n",
      "</span>\n",
      "</span>, <span class=\"special-price\">\n",
      "<span class=\"price-container price-final_price tax weee\">\n",
      "<span class=\"price-label\">Precio especial</span>\n",
      "<span class=\"price-wrapper\" data-price-amount=\"3149\" data-price-type=\"finalPrice\" id=\"product-price-69833\"><span class=\"price\">S/  3,149.00</span></span>\n",
      "</span>\n",
      "</span>, <span class=\"special-price\">\n",
      "<span class=\"price-container price-final_price tax weee\">\n",
      "<span class=\"price-label\">Precio especial</span>\n",
      "<span class=\"price-wrapper\" data-price-amount=\"4799\" data-price-type=\"finalPrice\" id=\"product-price-69839\"><span class=\"price\">S/  4,799.00</span></span>\n",
      "</span>\n",
      "</span>, <span class=\"special-price\">\n",
      "<span class=\"price-container price-final_price tax weee\">\n",
      "<span class=\"price-label\">Precio especial</span>\n",
      "<span class=\"price-wrapper\" data-price-amount=\"6599\" data-price-type=\"finalPrice\" id=\"product-price-68202\"><span class=\"price\">S/  6,599.00</span></span>\n",
      "</span>\n",
      "</span>, <span class=\"special-price\">\n",
      "<span class=\"price-container price-final_price tax weee\">\n",
      "<span class=\"price-label\">Precio especial</span>\n",
      "<span class=\"price-wrapper\" data-price-amount=\"4699\" data-price-type=\"finalPrice\" id=\"product-price-69806\"><span class=\"price\">S/  4,699.00</span></span>\n",
      "</span>\n",
      "</span>, <span class=\"special-price\">\n",
      "<span class=\"price-container price-final_price tax weee\">\n",
      "<span class=\"price-label\">Precio especial</span>\n",
      "<span class=\"price-wrapper\" data-price-amount=\"2349\" data-price-type=\"finalPrice\" id=\"product-price-70855\"><span class=\"price\">S/  2,349.00</span></span>\n",
      "</span>\n",
      "</span>, <span class=\"special-price\">\n",
      "<span class=\"price-container price-final_price tax weee\">\n",
      "<span class=\"price-label\">Precio especial</span>\n",
      "<span class=\"price-wrapper\" data-price-amount=\"3849\" data-price-type=\"finalPrice\" id=\"product-price-69275\"><span class=\"price\">S/  3,849.00</span></span>\n",
      "</span>\n",
      "</span>, <span class=\"special-price\">\n",
      "<span class=\"price-container price-final_price tax weee\">\n",
      "<span class=\"price-label\">Precio especial</span>\n",
      "<span class=\"price-wrapper\" data-price-amount=\"17499\" data-price-type=\"finalPrice\" id=\"product-price-68205\"><span class=\"price\">S/  17,499.00</span></span>\n",
      "</span>\n",
      "</span>, <span class=\"special-price\">\n",
      "<span class=\"price-container price-final_price tax weee\">\n",
      "<span class=\"price-label\">Precio especial</span>\n",
      "<span class=\"price-wrapper\" data-price-amount=\"2099\" data-price-type=\"finalPrice\" id=\"product-price-69281\"><span class=\"price\">S/  2,099.00</span></span>\n",
      "</span>\n",
      "</span>, <span class=\"special-price\">\n",
      "<span class=\"price-container price-final_price tax weee\">\n",
      "<span class=\"price-label\">Precio especial</span>\n",
      "<span class=\"price-wrapper\" data-price-amount=\"6499\" data-price-type=\"finalPrice\" id=\"product-price-64957\"><span class=\"price\">S/  6,499.00</span></span>\n",
      "</span>\n",
      "</span>, <span class=\"special-price\">\n",
      "<span class=\"price-container price-final_price tax weee\">\n",
      "<span class=\"price-label\">Precio especial</span>\n",
      "<span class=\"price-wrapper\" data-price-amount=\"3899\" data-price-type=\"finalPrice\" id=\"product-price-68930\"><span class=\"price\">S/  3,899.00</span></span>\n",
      "</span>\n",
      "</span>, <span class=\"special-price\">\n",
      "<span class=\"price-container price-final_price tax weee\">\n",
      "<span class=\"price-label\">Precio especial</span>\n",
      "<span class=\"price-wrapper\" data-price-amount=\"3199\" data-price-type=\"finalPrice\" id=\"product-price-70960\"><span class=\"price\">S/  3,199.00</span></span>\n",
      "</span>\n",
      "</span>, <span class=\"special-price\">\n",
      "<span class=\"price-container price-final_price tax weee\">\n",
      "<span class=\"price-label\">Precio especial</span>\n",
      "<span class=\"price-wrapper\" data-price-amount=\"2499\" data-price-type=\"finalPrice\" id=\"product-price-68360\"><span class=\"price\">S/  2,499.00</span></span>\n",
      "</span>\n",
      "</span>]\n"
     ]
    }
   ],
   "source": [
    "soup = BeautifulSoup(page.content)\n",
    "\n",
    "#prices = soup.find_all(class_='price')\n",
    "\n",
    "prices_t = soup.find_all('span', {'class':'special-price'}) #find all span with 'special-price' class\n",
    "\n",
    "print(prices_t)"
   ]
  },
  {
   "cell_type": "code",
   "execution_count": 55,
   "id": "eaca9351",
   "metadata": {},
   "outputs": [
    {
     "name": "stdout",
     "output_type": "stream",
     "text": [
      "['\\n\\nPrecio especial\\nS/ \\xa02,599.00\\n\\n', '\\n\\nPrecio especial\\nS/ \\xa01,799.00\\n\\n', '\\n\\nPrecio especial\\nS/ \\xa02,349.00\\n\\n', '\\n\\nPrecio especial\\nS/ \\xa01,949.00\\n\\n', '\\n\\nPrecio especial\\nS/ \\xa02,999.00\\n\\n', '\\n\\nPrecio especial\\nS/ \\xa06,499.00\\n\\n', '\\n\\nPrecio especial\\nS/ \\xa01,399.00\\n\\n', '\\n\\nPrecio especial\\nS/ \\xa03,099.00\\n\\n', '\\n\\nPrecio especial\\nS/ \\xa03,149.00\\n\\n', '\\n\\nPrecio especial\\nS/ \\xa04,799.00\\n\\n', '\\n\\nPrecio especial\\nS/ \\xa06,599.00\\n\\n', '\\n\\nPrecio especial\\nS/ \\xa04,699.00\\n\\n', '\\n\\nPrecio especial\\nS/ \\xa02,349.00\\n\\n', '\\n\\nPrecio especial\\nS/ \\xa03,849.00\\n\\n', '\\n\\nPrecio especial\\nS/ \\xa017,499.00\\n\\n', '\\n\\nPrecio especial\\nS/ \\xa02,099.00\\n\\n', '\\n\\nPrecio especial\\nS/ \\xa06,499.00\\n\\n', '\\n\\nPrecio especial\\nS/ \\xa03,899.00\\n\\n', '\\n\\nPrecio especial\\nS/ \\xa03,199.00\\n\\n', '\\n\\nPrecio especial\\nS/ \\xa02,499.00\\n\\n']\n"
     ]
    }
   ],
   "source": [
    "prices_text = [item.text for item in prices_t]\n",
    "\n",
    "print(prices_text)"
   ]
  },
  {
   "cell_type": "code",
   "execution_count": 56,
   "id": "e54e4c4b",
   "metadata": {},
   "outputs": [
    {
     "name": "stdout",
     "output_type": "stream",
     "text": [
      "[2599.0, 1799.0, 2349.0, 1949.0, 2999.0, 6499.0, 1399.0, 3099.0, 3149.0, 4799.0, 6599.0, 4699.0, 2349.0, 3849.0, 17499.0, 2099.0, 6499.0, 3899.0, 3199.0, 2499.0]\n"
     ]
    }
   ],
   "source": [
    "pattern = r'[\\d,]+(?:\\.\\d+)?' #REGEX\n",
    "\n",
    "float_prices = [float(re.search(pattern, item).group().replace(',','')) for item in prices_text] #Convert in float\n",
    "\n",
    "print(float_prices)"
   ]
  },
  {
   "cell_type": "code",
   "execution_count": 57,
   "id": "03ec6b3f",
   "metadata": {},
   "outputs": [
    {
     "name": "stdout",
     "output_type": "stream",
     "text": [
      "4191.5\n"
     ]
    }
   ],
   "source": [
    "prod_average_prices = sum(float_prices) / len (float_prices)\n",
    "\n",
    "print(prod_average_prices)"
   ]
  },
  {
   "cell_type": "code",
   "execution_count": 58,
   "id": "ccd41cb5",
   "metadata": {},
   "outputs": [
    {
     "name": "stdout",
     "output_type": "stream",
     "text": [
      "20\n",
      "20\n"
     ]
    }
   ],
   "source": [
    "name=soup.find_all('strong', {'class':\"product name product-item-name\"})\n",
    "names=[item.text for item in name]\n",
    "\n",
    "print(len(names))\n",
    "print(len(prices_t))"
   ]
  },
  {
   "cell_type": "markdown",
   "id": "9363d880",
   "metadata": {},
   "source": [
    "# Siblings and parents"
   ]
  },
  {
   "cell_type": "code",
   "execution_count": 59,
   "id": "a504d286",
   "metadata": {},
   "outputs": [
    {
     "data": {
      "text/plain": [
       "<div class=\"price-box price-final_price\" data-price-box=\"product-id-74120\" data-product-id=\"74120\" data-role=\"priceBox\">\n",
       "<span class=\"special-price\">\n",
       "<span class=\"price-container price-final_price tax weee\">\n",
       "<span class=\"price-label\">Precio especial</span>\n",
       "<span class=\"price-wrapper\" data-price-amount=\"2599\" data-price-type=\"finalPrice\" id=\"product-price-74120\"><span class=\"price\">S/  2,599.00</span></span>\n",
       "</span>\n",
       "</span>\n",
       "<span class=\"old-price\">\n",
       "<span class=\"price-container price-final_price tax weee\">\n",
       "<span class=\"price-label\">Precio habitual</span>\n",
       "<span class=\"price-wrapper\" data-price-amount=\"2849\" data-price-type=\"oldPrice\" id=\"old-price-74120\"><span class=\"price\">S/  2,849.00</span></span>\n",
       "</span>\n",
       "</span>\n",
       "</div>"
      ]
     },
     "execution_count": 59,
     "metadata": {},
     "output_type": "execute_result"
    }
   ],
   "source": [
    "soup.find('span', {'class':'special-price'}).parent #first node of this class"
   ]
  },
  {
   "cell_type": "code",
   "execution_count": 60,
   "id": "6e50c7a9",
   "metadata": {},
   "outputs": [
    {
     "name": "stdout",
     "output_type": "stream",
     "text": [
      "<div class=\"price-box price-final_price\" data-price-box=\"product-id-73847\" data-product-id=\"73847\" data-role=\"priceBox\">\n",
      "<span class=\"special-price\">\n",
      "<span class=\"price-container price-final_price tax weee\">\n",
      "<span class=\"price-label\">Precio especial</span>\n",
      "<span class=\"price-wrapper\" data-price-amount=\"2349\" data-price-type=\"finalPrice\" id=\"product-price-73847\"><span class=\"price\">S/  2,349.00</span></span>\n",
      "</span>\n",
      "</span>\n",
      "<span class=\"old-price\">\n",
      "<span class=\"price-container price-final_price tax weee\">\n",
      "<span class=\"price-label\">Precio habitual</span>\n",
      "<span class=\"price-wrapper\" data-price-amount=\"2849\" data-price-type=\"oldPrice\" id=\"old-price-73847\"><span class=\"price\">S/  2,849.00</span></span>\n",
      "</span>\n",
      "</span>\n",
      "</div>\n"
     ]
    }
   ],
   "source": [
    "parent2 = prices_t[2].parent\n",
    "print(parent2)"
   ]
  },
  {
   "cell_type": "code",
   "execution_count": 61,
   "id": "fb3a2dc8",
   "metadata": {},
   "outputs": [
    {
     "name": "stdout",
     "output_type": "stream",
     "text": [
      "['\\n', <strong class=\"product sku product-item-sku\">\n",
      "                                                            Código 131674                                                    </strong>, '\\n', <strong class=\"product name product-item-name\">\n",
      "<a class=\"product-item-link\" href=\"https://hiraoka.com.pe/computo-y-tecnologia/computadoras/laptops/laptop-asus-de-15-6-modelo-x1503za-l1236w-procesador-intel-core-i5-12500h-12va-generacion-16gb-ram-512gb-de-disco-solido-entrada-usb-hdmi-y-tipo-c-windows-11-bluetooth-5-3-camara-web-720p-hd-para-oficina-o-estudiante\" title='Laptop Asus Vivobook 15X OLED de 15.6\", modelo X1503ZA-L1236W, procesador Intel Core i5 12va Gen, 16GB RAM, 512GB de disco sólido, entrada USB, HDMI y tipo C, Windows 11, Bluetooth 5.3, cámara web 720p HD para oficina o estudiante.'>\n",
      "                                Laptop Asus Vivobook 15X OLED de 15.6\", modelo X1503ZA-L1236W, procesador Intel Core i5 12va Gen, 16GB RAM, 512GB de disco sólido, entrada USB, HDMI y tipo C, Windows 11, Bluetooth 5.3, cámara web 720p HD para oficina o estudiante.                            </a>\n",
      "</strong>, '\\n', <strong class=\"product brand product-item-brand\">\n",
      "<a class=\"product-item-link\" href=\"https://hiraoka.com.pe/computo-y-tecnologia/computadoras/laptops/laptop-asus-de-15-6-modelo-x1503za-l1236w-procesador-intel-core-i5-12500h-12va-generacion-16gb-ram-512gb-de-disco-solido-entrada-usb-hdmi-y-tipo-c-windows-11-bluetooth-5-3-camara-web-720p-hd-para-oficina-o-estudiante\">\n",
      "                                    ASUS                                </a>\n",
      "</strong>, '\\n']\n"
     ]
    }
   ],
   "source": [
    "infos = []\n",
    "\n",
    "for sibling in parent2.previous_siblings:\n",
    "    infos.append(sibling)\n",
    "print(infos)"
   ]
  },
  {
   "cell_type": "code",
   "execution_count": 62,
   "id": "33df3b99",
   "metadata": {},
   "outputs": [
    {
     "name": "stdout",
     "output_type": "stream",
     "text": [
      "\n",
      "\n",
      "                                Laptop Asus Vivobook 15X OLED de 15.6\", modelo X1503ZA-L1236W, procesador Intel Core i5 12va Gen, 16GB RAM, 512GB de disco sólido, entrada USB, HDMI y tipo C, Windows 11, Bluetooth 5.3, cámara web 720p HD para oficina o estudiante.                            \n",
      "\n"
     ]
    }
   ],
   "source": [
    "print(infos[3].text) #only node"
   ]
  },
  {
   "cell_type": "markdown",
   "id": "b436f38b",
   "metadata": {},
   "source": [
    "# All Nodes"
   ]
  },
  {
   "cell_type": "code",
   "execution_count": 63,
   "id": "100faf45",
   "metadata": {},
   "outputs": [
    {
     "name": "stdout",
     "output_type": "stream",
     "text": [
      "20\n"
     ]
    }
   ],
   "source": [
    "parents = []\n",
    "hierarchy = []\n",
    "\n",
    "for price in prices_t:\n",
    "    parent1 = price.parent\n",
    "    parents.append(parent1)\n",
    "    brothers = []\n",
    "    \n",
    "    for sibling in parent1.previous_siblings:\n",
    "        brothers.append(sibling)\n",
    "    hierarchy.append(brothers[3].text)\n",
    "    \n",
    "print(len(hierarchy))"
   ]
  },
  {
   "cell_type": "code",
   "execution_count": 64,
   "id": "deeee8f3",
   "metadata": {},
   "outputs": [
    {
     "name": "stdout",
     "output_type": "stream",
     "text": [
      "['\\n\\n                                Laptop Lenovo Ideapad Slim 3i de 15.6\", modelo 83ER001BLM, procesador Intel Core i5-12450H (12va generación), 16GB RAM, disco sólido de 1TB, pantalla touch, cámara web 1080p FHD, entrada USB, HDMI y tipo C, Bluetooth v5.1, WiFi, Windows 11 Home                            \\n', '\\n\\n                                Laptop HP de 15.6\", modelo 15-ef2507la, procesador AMD Ryzen 5 5500U, 8GB RAM, disco sólido de 512GB, cámara web 720p HD, Bluetooth 4.2, entrada HDMI, USB, Wifi, Windows 11, Incluye Mochila HP Travel, Audífono y Mouse inalámbrico                            \\n', '\\n\\n                                Laptop Asus\\xa0Vivobook 15X OLED\\xa0de 15.6\", modelo X1503ZA-L1236W, procesador Intel Core i5\\xa012va Gen, 16GB RAM, 512GB de disco sólido, entrada USB, HDMI y tipo C, Windows 11, Bluetooth 5.3, cámara web 720p HD para oficina o estudiante.                            \\n', '\\n\\n                                Laptop Lenovo IdeaPad 3i de 15.6\", modelo 82RK00PFLM, procesador Intel Core i5-1235U, 8GB RAM, disco sólido de 512GB, cámara web 720p HD, entrada USB, HDMI y tipo C, Bluetooth 5.1, WiFi, Windows 11 Home, para oficina o estudiantes                            \\n', '\\n\\n                                Laptop Lenovo IdeaPad Gaming 3i de 15.6\", modelo 82S9012QLM, tarjeta gráfica GeForce RTX 3050, procesador Intel Core i5 (12va generación), 8GB RAM, disco sólido de 512GB, cámara web 720p HD, entrada USB y HDMI, Bluetooth 5.1, WiFi, Windows 11, para Gamers                            \\n', '\\n\\n                                Laptop Gamer Asus\\xa0TUF F15\\xa0de 15.6\", modelo FX507VV4-LP049W, procesador Intel Core i9 13va Gen, 16GB RAM, 512GB de disco sólido, cámara web 720p HD, entrada USB, HDMI, RJ45 y tipo C, Windows 11, Wifi, Bluetooth v5.2, tarjeta gráfica GeForce RTX4060.                            \\n', '\\n\\n                                Laptop Acer de 15.6\", modelo A315-510P-355X, procesador Intel Core i3-N305 12va generación, 8GB RAM, 512GB de disco sólido, cámara web HD 720 px, entrada USB, HDMI, Windows 11, Wifi, Bluetooth 5.0, para oficina o estudiante universitario.                            \\n', '\\n\\n                                Laptop Gamer Asus TUF F15 de 15.6\", modelo FX506HC-HN111W, tarjeta gráfica GeForce RTX 3050, procesador Intel Core i5-11400H, 8GB RAM, 512GB de disco sólido, cámara web 720HD, entrada USB, HDMI, RJ45 y tipo C, Windows 11, Wifi, Bluetooth 5.3, para Gamers.                            \\n', '\\n\\n                                Laptop Gamer Acer de 15.6\", modelo AN515-58-57VS, tarjeta gráfica GeForce RTX 3050, procesador Intel Core i5-12450H, 8GB RAM, disco sólido de 512GB, cámara web 720px HD, entrada USB, HDMI y tipo C, Windows 11, Wifi, para gamers.                            \\n', '\\n\\n                                Laptop Gamer Acer de 16\", modelo AN16-41-R2H5, tarjeta gráfica GeForce RTX 4050, procesador AMD Ryzen 5 7640HS, 8GB RAM, disco sólido de 512GB, cámara web 720px HD, entrada USB, HDMI y tipo C, Windows 11, Wifi, para gamers.                            \\n', '\\n\\n                                Laptop Asus Zenbook\\xa0S 13 OLED\\xa0de 13.3\", modelo UX5304VA-NQ021W, procesador Intel Core i7-1355U, 16GB RAM, 1TB de disco sólido, pantalla 3K, entrada USB, HDMI y tipo C, Windows 11, Bluetooth 5.3, cámara web 1080p, para oficina o estudiante.                            \\n', '\\n\\n                                Laptop Gamer Acer de 15.6\", modelo AN515-58-77GL, tarjeta gráfica GeForce RTX 3050, procesador Intel Core i7-12650H, 16GB RAM, disco sólido de 512GB, cámara web 720px HD, entrada USB, HDMI y tipo C, Windows 11, Wifi, para gamers.                            \\n', '\\n\\n                                Laptop Acer Aspire Vero de 15.6\", modelo AV15-52-589W, procesador Intel Core i5-1235U, 8GB RAM, 512GB de disco sólido, cámara web 720p HD, entrada USB, HDMI, Windows 11, Wifi, Bluetooth 5.0, para oficina o estudiante universitario.                            \\n', '\\n\\n                                Laptop Gamer HP Victus de 15.6\", modelo 15-fb0125la, tarjeta gráfica NVIDIA GeForce RTX 3050, procesador AMD Ryzen 7 5800H, 16GB RAM, disco sólido de 512GB, cámara web 720p HD, Bluetooth 5.3, entrada HDMI, USB, Wifi, Windows 11, para gamers.                            \\n', '\\n\\n                                Laptop Gamer Asus ROG Zephyrus\\xa0Duo\\xa016 de 16\", modelo GX650PY-NM005W, tarjeta gráfica GeForce RTX 4090, procesador AMD Ryzen 9 7945HX, 32GB RAM, 2TB de disco sólido, pantalla QHD+, entrada USB, HDMI y tipo C, Windows 11, Bluetooth 5.3, cámara web 1080p.                            \\n', '\\n\\n                                Laptop HP de 15.6\", modelo 15-fc0002la, procesador AMD Ryzen 5 7520U, 16GB RAM, disco sólido de 512GB, cámara web 1080p FHD, Bluetooth 5.3, entrada HDMI, USB, Wifi, Windows 11, para oficina o estudiantes.                            \\n', '\\n\\n                                Laptop Gamer MSI Katana 17 B13VFK 17.3\" Intel Core i7-13620H 512GB SSD 16GB RAM RTX4060                            \\n', '\\n\\n                                Laptop 2 en 1 HP Envy x360 de 15.6\", modelo 15-fh0001la, procesador AMD Ryzen 5 7530U, 8GB RAM, disco sólido de 512 GB, cámara web 5MP, Bluetooth 5.3, entrada HDMI, Wifi, Windows 11, para oficina o estudiantes.                            \\n', '\\n\\n                                Laptop Gamer HP Victus de 15.6\", modelo 15-fb0126la, tarjeta gráfica NVIDIA GeForce RTX 3050, procesador AMD Ryzen 7 5800H, 8GB RAM, disco sólido de 512GB, Windows 11 Single Language + Audífonos Gamer HyperX + Mouse HyperX Black                            \\n', '\\n\\n                                Laptop HP de 15.6\", modelo 15-fc0013la, procesador AMD Ryzen 7 7730U, 16GB RAM, disco sólido de 512GB, cámara web 1080p FHD, Bluetooth 5.3, entrada HDMI y tipo C, Wifi, Windows 11, para la oficina o estudiantes.                            \\n']\n"
     ]
    }
   ],
   "source": [
    "print(hierarchy) #all prices"
   ]
  },
  {
   "cell_type": "code",
   "execution_count": 65,
   "id": "66cc2f6c",
   "metadata": {},
   "outputs": [],
   "source": [
    "hierarchy = [title.strip() for title in hierarchy]\n",
    "prod = hierarchy"
   ]
  },
  {
   "cell_type": "code",
   "execution_count": 66,
   "id": "1eaa666a",
   "metadata": {},
   "outputs": [
    {
     "name": "stdout",
     "output_type": "stream",
     "text": [
      "                                             Products   Prices\n",
      "0   Laptop Lenovo Ideapad Slim 3i de 15.6\", modelo...   2599.0\n",
      "1   Laptop HP de 15.6\", modelo 15-ef2507la, proces...   1799.0\n",
      "2   Laptop Asus Vivobook 15X OLED de 15.6\", modelo...   2349.0\n",
      "3   Laptop Lenovo IdeaPad 3i de 15.6\", modelo 82RK...   1949.0\n",
      "4   Laptop Lenovo IdeaPad Gaming 3i de 15.6\", mode...   2999.0\n",
      "5   Laptop Gamer Asus TUF F15 de 15.6\", modelo FX5...   6499.0\n",
      "6   Laptop Acer de 15.6\", modelo A315-510P-355X, p...   1399.0\n",
      "7   Laptop Gamer Asus TUF F15 de 15.6\", modelo FX5...   3099.0\n",
      "8   Laptop Gamer Acer de 15.6\", modelo AN515-58-57...   3149.0\n",
      "9   Laptop Gamer Acer de 16\", modelo AN16-41-R2H5,...   4799.0\n",
      "10  Laptop Asus Zenbook S 13 OLED de 13.3\", modelo...   6599.0\n",
      "11  Laptop Gamer Acer de 15.6\", modelo AN515-58-77...   4699.0\n",
      "12  Laptop Acer Aspire Vero de 15.6\", modelo AV15-...   2349.0\n",
      "13  Laptop Gamer HP Victus de 15.6\", modelo 15-fb0...   3849.0\n",
      "14  Laptop Gamer Asus ROG Zephyrus Duo 16 de 16\", ...  17499.0\n",
      "15  Laptop HP de 15.6\", modelo 15-fc0002la, proces...   2099.0\n",
      "16  Laptop Gamer MSI Katana 17 B13VFK 17.3\" Intel ...   6499.0\n",
      "17  Laptop 2 en 1 HP Envy x360 de 15.6\", modelo 15...   3899.0\n",
      "18  Laptop Gamer HP Victus de 15.6\", modelo 15-fb0...   3199.0\n",
      "19  Laptop HP de 15.6\", modelo 15-fc0013la, proces...   2499.0\n"
     ]
    }
   ],
   "source": [
    "df = pd.DataFrame({'Products': prod, 'Prices': float_prices})\n",
    "print(df) # This resolution is only for the first page of the website"
   ]
  },
  {
   "cell_type": "markdown",
   "id": "b86299ae",
   "metadata": {},
   "source": [
    "# All product pages"
   ]
  },
  {
   "cell_type": "code",
   "execution_count": 67,
   "id": "ed4a66a1",
   "metadata": {},
   "outputs": [],
   "source": [
    "prices_List = []\n",
    "prod_List = []\n",
    "\n",
    "for i in range(2,5):\n",
    "    npage = str(i)\n",
    "    URL = 'https://hiraoka.com.pe/computo-y-tecnologia/computadoras/laptops'+'?p='+npage\n",
    "    page = requests.get(URL)\n",
    "    soup = BeautifulSoup(page.content, 'html.parser')\n",
    "    prices_page = soup.find_all('span', {'class': 'special-price'})\n",
    "    prices_text_page = [item.text for item in prices_page]\n",
    "    prices_float_page = [float(re.search(pattern, item).group().replace(',','')) for item in prices_text_page]\n",
    "    prices_List.append(prices_float_page)\n",
    "    \n",
    "    parents = []\n",
    "    hierarchy = []\n",
    "    for price in prices_page:\n",
    "        parent1 = price.parent\n",
    "        parents.append(parent1)\n",
    "        brothers = []\n",
    "        \n",
    "        for sibling in parent1.previous_siblings:\n",
    "            brothers.append(sibling)\n",
    "        hierarchy.append(brothers[3].text)\n",
    "    hierarchy = [title.strip() for title in hierarchy]\n",
    "    names_page = hierarchy\n",
    "    prod_List = prod_List + names_page"
   ]
  },
  {
   "cell_type": "code",
   "execution_count": 68,
   "id": "7e0da883",
   "metadata": {},
   "outputs": [
    {
     "name": "stdout",
     "output_type": "stream",
     "text": [
      "['Laptop 2en1 HP Envy x360 de 15.6\", modelo 15-fe0001la, tarjeta gráfica GeForce RTX 3050, procesador Intel Core i7-1355U, 16GB RAM, disco sólido de 1TB, cámara web 5MP, Bluetooth 5.3, entrada HDMI, USB, Wifi, Windows 11, para oficina o estudiantes.', 'Laptop Gamer Asus ROG Strix SCAR 18 de 18\", modelo G834JY-N6013W, tarjeta gráfica GeForce RTX 4090, procesador Intel Core i9 13va Gen, 32GB RAM, 2TB de disco sólido, cámara web 720p HD, entrada USB, HDMI, RJ45 y tipo C, Windows 11, Wifi, Bluetooth 5.3.', 'MacBook Pro 13.3\" M2 512GB SSD Gris Espacial', 'Laptop Asus Vivobook\\xa016\\xa0de 16\", modelo X1605ZA-MB213W, procesador Intel Core i7-1255U, 12GB RAM, 512GB de disco sólido, pantalla WUXGA, entrada USB, HDMI y tipo C, Windows 11, Bluetooth 5.3, cámara web 720p HD para oficina o estudiante.', 'Laptop Gamer MSI de 15.6\", modelo THIN GF63 12VE - 1021, tarjeta gráfica GeForce RTX 4050, procesador Intel Core i7-12650H 12° Generación, 16GB RAM, disco sólido de 512GB, cámara web 720p HD, entrada USB, HDMI y tipo C, Bluetooth 5.2, Wifi, para gamers.', 'Laptop Asus Zenbook 14 OLED de 14\", modelo UX3402ZA-KM233W, procesador Intel Core i5-1240P, 8GB RAM, 512GB de disco sólido, entrada USB, HDMI y tipo C, Windows 11, Bluetooth 5.3, cámara web 1080p FHD para oficina o estudiante.', 'Laptop Gamer MSI de 15.6\", modelo BRAVO 15 C7VF, tarjeta gráfica GeForce RTX 4060, procesador AMD Ryzen 7 7735HS, 16GB RAM, disco sólido de 512GB, cámara web 720HD, entrada USB, HDMI y tipo C, Bluetooth 5.2, Wifi, para gamers.', 'Laptop Gamer HP Victus de 16.1\", modelo 16-d0507la, tarjeta gráfica NVIDIA GeForce RTX 3050, procesador Intel Core i5-11400H, 8GB RAM, disco sólido de 512GB, cámara web 720p HD, Bluetooth 5.2, entrada HDMI, Wifi, Windows 11, para gamers.', 'Laptop Asus Vivobook de 16\", modelo X1605ZA-MB252W, procesador Intel Core i5 (12va generación), 8GB RAM, 512GB de disco sólido, cámara web 720HD, entrada USB, HDMI y tipo C, Windows 11, Wifi, Bluetooth 5.0, para oficina o estudiante universitario.', 'Laptop Gamer Acer de 16\", modelo PHN16-71-977U, tarjeta gráfica GeForce RTX4060, procesador Intel Core i9-13900HX 13va Generación, 16GB RAM, disco sólido de 1TB SSD, cámara web HD 720 px, entrada HDMI y tipo C, Windows 11, Wifi, para gamers.', 'Laptop Acer de 15.6\", modelo A315-24P-R2M5, procesador AMD Ryzen 5 7520U, 8GB RAM, 512GB de disco sólido, cámara web 720px HD, entrada USB, HDMI, Windows 11, Wifi, Bluetooth 5.0, para oficina o estudiante universitario.', 'Laptop MSI de 14\", Modern 14 C11M, procesador Intel Core i5-1155G7, 8GB RAM, 512GB de disco sólido, entrada USB, HDMI, Windows 11, Bluetooth 5.2, Wifi, cámara web, para oficina o estudiantes universitarios.', 'Laptop Lenovo Ideapad Slim 3i de 15.6\", modelo 83ER0019LM, procesador Intel Core i5-12450H (12va generación), 16GB RAM, disco sólido de 512GB, cámara web 1080p FHD, entrada USB, HDMI y tipo C, Bluetooth v5.1, WiFi, Windows 11 Home, para oficina o estudian', 'Laptop Lenovo Ideapad Slim 5i de 16\", modelo 82XF0071LM, procesador Intel Core  i7-13620H (13va generación), 16GB RAM, disco sólido de 512GB, cámara web 1080p FHD, entrada USB, HDMI y tipo C, Bluetooth v5.1, WiFi, Windows 11 Home', 'Laptop Lenovo Yoga Slim 6i de 14\", modelo 82WV002MLM, procesador Intel Core i7-1360P (13va generación), 16GB RAM, disco sólido de 512GB, cámara web 1080p FHD, entrada USB, HDMI y tipo C, Bluetooth v5.1, WiFi, Windows 11 Home, para oficina o estudiantes', 'Laptop Gamer Lenovo LOQ de 16\", modelo 82XW001SLM, tarjeta gráfica GeForce RTX 4060, procesador Intel Core i7-13620H (13va generación), 16GB RAM, disco sólido de 512GB, cámara web 1080p FHD, entrada USB, HDMI y tipo C, Bluetooth v5.1, WiFi, Windows 11 Hom', 'Laptop Gamer Lenovo Legion Slim 5i de 16\", modelo 82YA005LLM, tarjeta gráfica GeForce RTX 4060, procesador Intel Core i7-13700H (13va generación), 16GB RAM, disco sólido de 512GB, cámara web 1080p FHD, entrada USB, HDMI y tipo C, Bluetooth v5.1, WiFi, Win', 'Laptop Gamer HP Victus de 15.6\", modelo 15-fa0000la, procesador Intel Core i5 (12va generación), 16GB RAM, disco sólido de 512GB, cámara web 720p HD, Bluetooth 5.3, entrada HDMI, USB, Wifi, Windows 11, para gamers.', 'Laptop Gaming Asus TUF Dash F15 FX517ZM-HN001W 15.6\" Intel Core i7-12650H 12th Gen 512GB SSD 16GB RAM', 'Laptop Gamer Acer de 18\", modelo PH18-71-958U, tarjeta gráfica GeForce RTX 4080, procesador Intel Core i9-13900HX, 32GB RAM, disco sólido de 1TB, cámara web 1080px FHD, entrada USB, HDMI y tipo C, Windows 11, Wifi, para gamers.', 'Laptop Acer Aspire 3 de 15.6\", modelo A315-59-51A0, procesador Intel Core i5 (12va generación), 8GB RAM, 512GB de disco sólido, cámara web 720HD, entrada USB, HDMI, Windows 11, Wifi, Bluetooth 5.0, para oficina o estudiante universitario.', 'Laptop Asus\\xa0Vivobook 15X OLED\\xa0de 15.6\", modelo K3504VA-L1244W, procesador Intel Core i5 13va Gen, 8GB RAM, 512GB de disco sólido, cámara web 720p HD, entrada USB, HDMI y tipo C, Windows 11, Wifi, Bluetooth v5.3', 'Laptop Gamer Acer de 16\", modelo PHN16-71-77VH, tarjeta gráfica GeForce RTX 4060, procesador Intel Core i7 (13va generación), 16GB RAM, disco sólido de 1TB, cámara web 720HD, entrada USB, HDMI y tipo C, Windows 11, Wifi.', 'Laptop Gamer MSI de 15.6\", modelo THIN GF63 12VE - 1022, tarjeta gráfica GeForce RTX 4050, procesador Intel Core i5-12450H 12° Generación, 16GB RAM, disco sólido de 512GB, cámara web 720p HD, entrada USB, HDMI y tipo C, Bluetooth 5.2, Wifi, para gamers.', 'Laptop Acer de 15.6\", modelo A515-58P-34E5, procesador Intel Core i3-1315U (13va generación), 8GB RAM, 512GB de disco sólido, cámara web 720px HD, entrada USB, HDMI, Windows 11, Wifi, Bluetooth 5.0, para oficina o estudiante universitario.', 'Laptop HP de 13.5\", modelo Spectre x360 2-in-1 14-ef2000la, procesador Intel Core i7-1355U, 16GB RAM, disco sólido de 1TB, cámara web 5MP IR, Bluetooth 5.3, entrada USB, Wifi, Windows 11, para oficina o estudiantes.', 'Laptop HP Envy de 16\", modelo 16-h1000la, tarjeta gráfica GeForce RTX 4060, procesador Intel Core i7-13700H 13° generación, 16GB RAM, disco sólido de 1TB, cámara web 5MP, Bluetooth 5.3, entrada HDMI, USB, Wifi, Windows 11, para oficina o estudiantes.', 'Laptop Acer de 15.6\", modelo A315-24P-R9JU, procesador AMD Ryzen 5 7520U, 16GB RAM, 512GB de disco sólido, cámara web 720px HD, entrada USB, HDMI, Windows 11, Wifi, Bluetooth 5.0, para oficina o estudiante universitario.', 'Laptop HP Pavilion x360  de 14\", modelo 14-ek0004la, procesador Intel Core i5 (12va generación), 8GB RAM, disco sólido de 512GB, cámara web 720p HD, Bluetooth 5.3, entrada HDMI, USB, Wifi, Windows 11, para oficina o estudiantes.', 'Laptop HP de 15.6\", modelo 15-fd0008la, procesador Intel Core i7-1355U 13° generación, 8GB RAM, disco sólido de 512GB, cámara web 1080p FHD, Bluetooth 5.3, entrada HDMI, USB, Wifi, Windows 11, para oficina o estudiantes.', 'MacBook Air 15.3\" M2 256GB 8GB RAM Gris Espacial', 'Laptop Gamer Acer Nitro 5 de 15.6\", modelo AN515-58-75G4, tarjeta gráfica GeForce RTX 3060, procesador Intel Core i7 (12va generación), 16GB RAM, disco sólido de 512GB, cámara web 720HD, entrada USB, HDMI y tipo C, Windows 11, Wifi.', 'Laptop Asus Vivobook\\xa016\\xa0de 16\", modelo M1605YA-MB160W, procesador AMD Ryzen 7 7730U, 16GB RAM, 512GB de disco sólido, pantalla WUXGA, entrada USB, HDMI y tipo C, Windows 11, Bluetooth 5.3, cámara web 720p HD para oficina o estudiante.', 'Laptop Gamer HP Victus de 16.1\", modelo 16-d1003la, tarjeta gráfica NVIDIA GeForce RTX 3060, procesador Intel Core i7 (12va generación), 16GB RAM, disco sólido de 512GB, cámara web 720p HD, Bluetooth 5.3, entrada HDMI, USB, Wifi, Windows 11, para gamers.', 'Laptop Asus Vivobook Pro 15 OLED 15.6\", modelo K6502ZC-MA109W, tarjeta gráfica GeForce RTX 3050, procesador Intel Core i7-12650H, 16GB RAM, 512GB de disco sólido, pantalla OLED, entrada USB, HDMI y tipo C, Windows 11, Bluetooth 5.3, cámara web1080p FHD.', 'Laptop Acer de 15.6\", modelo A315-24PT-R85K, procesador AMD Ryzen 5 7520U, 8GB RAM, 512GB de disco sólido, Pantalla Touch, cámara web 720px HD, entrada USB, HDMI, Windows 11, Wifi, Bluetooth 5.0, para oficina o estudiante universitario.', 'Laptop HP de 15.6\", modelo 15-fd0002la, procesador Intel Core i3-N305, 8GB RAM, disco sólido de 256GB, cámara web 720p HD, Bluetooth 5.3, entrada HDMI, USB, Wifi, Windows 11, para oficina o estudiantes, Incluye Mochila HP Travel', 'Laptop Gamer Acer de 15.6\", modelo AN515-58-51HS, tarjeta gráfica GeForce RTX 4050, procesador Intel Core i5-12450H, 8GB RAM, disco sólido de 512GB, cámara web 720px HD, entrada USB, HDMI y tipo C, Windows 11, Wifi, para gamers.', 'Laptop Asus Vivobook\\xa0Go 15\\xa0de 15.6\", modelo E1504FA-NJ403W, procesador AMD Ryzen 5 7520U, 8GB RAM, 256GB de disco sólido, pantalla FHD, entrada USB, HDMI y tipo C, Windows 11, Bluetooth 5.3, cámara web 720p HD para oficina o estudiante.', 'Laptop Lenovo IdeaPad 3 de 15.6\", modelo 82KU023RLM, procesador AMD Ryzen 7 5700U, 16GB RAM, disco sólido de 512GB, cámara web 720p HD, entrada USB, HDMI y tipo C, Bluetooth 5.0, WiFi, Windows 11 Home, para oficina o estudiantes', 'Laptop Lenovo IdeaPad Gaming 3 de 15.6\", modelo 82SB00S7LM, tarjeta gráfica GeForce RTX 3050, procesador AMD Ryzen 7 6800H, 16GB RAM, disco sólido de 512GB, cámara web 720p HD, entrada USB y HDMI, Bluetooth 5.1, WiFi, Windows 11, para Gamers', 'Laptop Lenovo Yoga Slim 6i de 14\", modelo 82WV002LLM, procesador Intel Core i5-1340P, 16GB RAM, disco sólido de 512GB, cámara web 1080p FHD, entrada USB, HDMI y tipo C, Bluetooth 5.1, WiFi, Windows 11 Home, para oficina o estudiantes', 'Laptop Lenovo IdeaPad Gaming 3i de 15.6\", modelo 82K101MVLM, tarjeta gráfica GeForce GTX 1650, procesador Intel Core i5-11320H, 16GB RAM, disco sólido de 512GB, cámara web 720p HD, entrada USB y HDMI, Bluetooth 5.1, WiFi, Windows 11, para Gamers', 'Laptop Gamer Lenovo Legion Pro 5 de 16\", modelo 82WM009LLM, tarjeta gráfica GeForce RTX 4070, procesador AMD Ryzen 7 7745HX, 32GB RAM, disco sólido de 1TB, cámara web 1080p FHD, entrada HDMI, USB, Bluetooth 5.1, Windows 11, para gamers.', 'Laptop Lenovo IdeaPad 3i de 14\", modelo 81X700EJAR, procesador Intel Core i5-1135G7, 8GB RAM, disco sólido de 256GB, entrada USB y HDMI, Bluetooth 5.0, WiFi, Windows 11 Home, para oficina o estudiantes', 'Laptop HP Pavilion de 14\", modelo 14-eh1002la, procesador Intel Core i5 (13va generación), 16GB RAM, disco sólido de 512GB, cámara web 5MP, Bluetooth 5.3, entrada HDMI, USB, Wifi, Windows 11, para oficina o estudiantes.', 'Laptop Lenovo IdeaPad 1 15.6\" AMD Ryzen 3 7320U 512GB SSD 8GB RAM Abyss Blue', 'Laptop Lenovo Ideapad 5i de 14\", modelo 82FE01DEAR, procesador Intel Core i5-1135G7, 8GB RAM, disco sólido de 512GB, entrada USB tipo C y HDMI, Bluetooth 5.0, WiFi, Windows 11 Home, para oficina o estudiantes', 'Laptop Lenovo IdeaPad 1 de 15.6\", modelo 82VG004CLM, procesador AMD Ryzen 5 7520U, 8GB RAM, disco sólido de 512GB, cámara web 720p HD, entrada HDMI y tipo C, Wifi, Bluetooth 5.1, Windows 11, para oficina o estudiantes.', 'Laptop Gamer Lenovo LOQ de 15.6\", modelo 82XT002PLM, tarjeta gráfica GeForce RTX 4050, procesador AMD Ryzen 7 7840HS, 16GB RAM, disco sólido de 512GB, cámara web 1080p FHD, entrada HDMI, USB, Bluetooth 5.1, Windows 11, para gamers.', 'Laptop 2en1 Lenovo Yoga Book 9i de 2x 13.3\", modelo 82YQ000CLM, procesador Intel Core i7-1355U, 16GB RAM, disco sólido de 1TB, cámara web 5MP + IR, entrada USB tipo C, Bluetooth 5.1, WiFi, Windows 11 Home, para oficina o estudiantes.', 'Laptop Gamer Lenovo Legion 5 de 15.6\", modelo 82JW003TLM, tarjeta gráfica GeForce RTX 3050, procesador AMD Ryzen 7 5800H, 16GB RAM, disco sólido de 512GB, cámara web 720p HD, entrada HDMI, USB, Bluetooth 5.1, Windows 11, para gamers.', 'Laptop Gamer Acer de 18\", modelo PH18-71-72SW, tarjeta gráfica GeForce RTX 4070, procesador Intel Core i7 (13va generación), 16GB RAM, disco sólido de 1TB, cámara web 1080FHD, entrada USB, HDMI y tipo C, Windows 11, Wifi.']\n"
     ]
    }
   ],
   "source": [
    "print(prod_List)"
   ]
  },
  {
   "cell_type": "code",
   "execution_count": 69,
   "id": "54c6261f",
   "metadata": {},
   "outputs": [
    {
     "name": "stdout",
     "output_type": "stream",
     "text": [
      "[[5899.0, 18399.0, 7399.0, 3199.0, 4899.0, 3849.0, 5999.0, 2799.0, 2699.0, 7999.0, 1699.0, 2049.0, 2199.0, 3099.0, 4199.0, 5499.0, 6699.0, 3599.0, 5499.0], [12999.0, 1799.0, 2999.0, 7399.0, 3799.0, 1499.0, 6399.0, 7599.0, 2249.0, 2499.0, 3149.0, 6299.0, 5799.0, 2999.0, 4399.0, 5799.0, 1999.0, 1499.0, 3799.0, 1699.0], [2399.0, 4099.0, 3399.0, 2799.0, 7899.0, 1649.0, 3549.0, 1299.0, 1699.0, 1799.0, 4999.0, 8499.0, 3599.0, 9999.0]]\n"
     ]
    }
   ],
   "source": [
    "print(prices_List)"
   ]
  },
  {
   "cell_type": "code",
   "execution_count": 70,
   "id": "1d93478e",
   "metadata": {},
   "outputs": [
    {
     "name": "stdout",
     "output_type": "stream",
     "text": [
      "[5899.0, 18399.0, 7399.0, 3199.0, 4899.0, 3849.0, 5999.0, 2799.0, 2699.0, 7999.0, 1699.0, 2049.0, 2199.0, 3099.0, 4199.0, 5499.0, 6699.0, 3599.0, 5499.0, 12999.0, 1799.0, 2999.0, 7399.0, 3799.0, 1499.0, 6399.0, 7599.0, 2249.0, 2499.0, 3149.0, 6299.0, 5799.0, 2999.0, 4399.0, 5799.0, 1999.0, 1499.0, 3799.0, 1699.0, 2399.0, 4099.0, 3399.0, 2799.0, 7899.0, 1649.0, 3549.0, 1299.0, 1699.0, 1799.0, 4999.0, 8499.0, 3599.0, 9999.0]\n"
     ]
    }
   ],
   "source": [
    "prices_List = [n for sublist in prices_List for n in sublist]\n",
    "print(prices_List)"
   ]
  },
  {
   "cell_type": "code",
   "execution_count": 71,
   "id": "b2c10c7e",
   "metadata": {},
   "outputs": [
    {
     "name": "stdout",
     "output_type": "stream",
     "text": [
      "73 73\n"
     ]
    }
   ],
   "source": [
    "all_prices = float_prices + prices_List\n",
    "all_prods = prod + prod_List   \n",
    "\n",
    "print(len(all_prices), len(all_prods))"
   ]
  },
  {
   "cell_type": "code",
   "execution_count": 72,
   "id": "b94071ba",
   "metadata": {},
   "outputs": [
    {
     "name": "stdout",
     "output_type": "stream",
     "text": [
      "                                             Products  Prices\n",
      "0   Laptop Lenovo Ideapad Slim 3i de 15.6\", modelo...  2599.0\n",
      "1   Laptop HP de 15.6\", modelo 15-ef2507la, proces...  1799.0\n",
      "2   Laptop Asus Vivobook 15X OLED de 15.6\", modelo...  2349.0\n",
      "3   Laptop Lenovo IdeaPad 3i de 15.6\", modelo 82RK...  1949.0\n",
      "4   Laptop Lenovo IdeaPad Gaming 3i de 15.6\", mode...  2999.0\n",
      "..                                                ...     ...\n",
      "68  Laptop Lenovo IdeaPad 1 de 15.6\", modelo 82VG0...  1799.0\n",
      "69  Laptop Gamer Lenovo LOQ de 15.6\", modelo 82XT0...  4999.0\n",
      "70  Laptop 2en1 Lenovo Yoga Book 9i de 2x 13.3\", m...  8499.0\n",
      "71  Laptop Gamer Lenovo Legion 5 de 15.6\", modelo ...  3599.0\n",
      "72  Laptop Gamer Acer de 18\", modelo PH18-71-72SW,...  9999.0\n",
      "\n",
      "[73 rows x 2 columns]\n"
     ]
    }
   ],
   "source": [
    "df = pd.DataFrame({'Products': all_prods, 'Prices': all_prices})\n",
    "print(df) # This resolution is only for the first page of the website"
   ]
  }
 ],
 "metadata": {
  "kernelspec": {
   "display_name": "Python 3 (ipykernel)",
   "language": "python",
   "name": "python3"
  },
  "language_info": {
   "codemirror_mode": {
    "name": "ipython",
    "version": 3
   },
   "file_extension": ".py",
   "mimetype": "text/x-python",
   "name": "python",
   "nbconvert_exporter": "python",
   "pygments_lexer": "ipython3",
   "version": "3.9.12"
  }
 },
 "nbformat": 4,
 "nbformat_minor": 5
}
