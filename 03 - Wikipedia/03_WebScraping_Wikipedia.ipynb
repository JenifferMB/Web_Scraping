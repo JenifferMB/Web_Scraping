{
 "cells": [
  {
   "cell_type": "code",
   "execution_count": 1,
   "id": "677ff2e5",
   "metadata": {},
   "outputs": [],
   "source": [
    "from bs4 import BeautifulSoup\n",
    "import pandas as pd\n",
    "import requests\n",
    "from datetime import datetime"
   ]
  },
  {
   "cell_type": "code",
   "execution_count": 10,
   "id": "3b74d3d3",
   "metadata": {},
   "outputs": [
    {
     "name": "stdout",
     "output_type": "stream",
     "text": [
      "<Response [200]>\n"
     ]
    }
   ],
   "source": [
    "url = 'https://pt.wikipedia.org/wiki/The_Game_Award_de_Jogo_do_Ano'\n",
    "wiki_page = requests.get(url)\n",
    "\n",
    "print(wiki_page)"
   ]
  },
  {
   "cell_type": "code",
   "execution_count": 11,
   "id": "8c1ef30e",
   "metadata": {},
   "outputs": [],
   "source": [
    "wiki_page = wiki_page.text\n",
    "\n",
    "soup = BeautifulSoup(wiki_page, 'html.parser')"
   ]
  },
  {
   "cell_type": "code",
   "execution_count": 13,
   "id": "01b754bc",
   "metadata": {},
   "outputs": [
    {
     "name": "stdout",
     "output_type": "stream",
     "text": [
      "['infobox', 'infobox_v2']\n",
      "['wikitable', 'sortable']\n",
      "['wikitable', 'sortable']\n",
      "['multicol']\n",
      "['wikitable']\n",
      "['wikitable']\n",
      "['multicol']\n",
      "['wikitable']\n",
      "['wikitable']\n",
      "['nowraplinks', 'collapsible', 'autocollapse', 'navbox-inner']\n",
      "['nowraplinks', 'hlist', 'collapsible', 'collapsed', 'navbox-inner']\n"
     ]
    }
   ],
   "source": [
    "for table in soup.find_all('table'):\n",
    "    print(table.get('class')) # target: wikitable sortable jquery-tablesorter"
   ]
  },
  {
   "cell_type": "code",
   "execution_count": 61,
   "id": "a89f5121",
   "metadata": {
    "scrolled": true
   },
   "outputs": [],
   "source": [
    "data = []\n",
    "\n",
    "for table in soup.find_all('table'): # find info about \"Década de 2010\" and \"Década de 2020\"\n",
    "    for row in table.find_all('tr'):\n",
    "        row_data = [col.text.strip() for col in row.find_all(['td', 'th'])]\n",
    "        data.append(row_data)\n",
    "        \n",
    "data = [row for row in data if row and len(row) == 5] # selecting the GOTY\n",
    "\n",
    "# headers \n",
    "year = []\n",
    "game = []\n",
    "developer = []\n",
    "publisher = []\n",
    "\n",
    "# iterating list\n",
    "for row in data[1:]:\n",
    "    year.append(row[0])\n",
    "    game.append(row[1])\n",
    "    developer.append(row[2])\n",
    "    publisher.append(row[3])\n",
    "\n",
    "# new Dataframe\n",
    "df = pd.DataFrame({\n",
    "    'Ano': year,\n",
    "    'Jogo': game,\n",
    "    'Desenvolvedora': developer,\n",
    "    'Publicadora': publisher\n",
    "})\n"
   ]
  },
  {
   "cell_type": "code",
   "execution_count": 62,
   "id": "cdb6f60e",
   "metadata": {},
   "outputs": [
    {
     "name": "stdout",
     "output_type": "stream",
     "text": [
      "     Ano                                     Jogo  \\\n",
      "0   2014                  Dragon Age: Inquisition   \n",
      "1   2015                 The Witcher 3: Wild Hunt   \n",
      "2   2016                                Overwatch   \n",
      "3   2017  The Legend of Zelda: Breath of the Wild   \n",
      "4   2018                               God of War   \n",
      "5   2019                Sekiro: Shadows Die Twice   \n",
      "6    Ano                                     Jogo   \n",
      "7   2020                   The Last of Us Part II   \n",
      "8   2021                             It Takes Two   \n",
      "9   2022                               Elden Ring   \n",
      "10  2023                        Baldur's Gate III   \n",
      "\n",
      "                                   Desenvolvedora  \\\n",
      "0                                         BioWare   \n",
      "1                                  CD Projekt Red   \n",
      "2                          Blizzard Entertainment   \n",
      "3   Nintendo Entertainment Planning & Development   \n",
      "4                             Santa Monica Studio   \n",
      "5                                    FromSoftware   \n",
      "6                                  Desenvolvedora   \n",
      "7                                     Naughty Dog   \n",
      "8                               Hazelight Studios   \n",
      "9                                    FromSoftware   \n",
      "10                                 Larian Studios   \n",
      "\n",
      "                       Publicadora  \n",
      "0                  Electronic Arts  \n",
      "1                       CD Projekt  \n",
      "2           Blizzard Entertainment  \n",
      "3                         Nintendo  \n",
      "4   Sony Interactive Entertainment  \n",
      "5                       Activision  \n",
      "6                      Publicadora  \n",
      "7   Sony Interactive Entertainment  \n",
      "8                  Electronic Arts  \n",
      "9       Bandai Namco Entertainment  \n",
      "10                  Larian Studios  \n"
     ]
    }
   ],
   "source": [
    "# dataframe\n",
    "print(df)"
   ]
  }
 ],
 "metadata": {
  "kernelspec": {
   "display_name": "Python 3 (ipykernel)",
   "language": "python",
   "name": "python3"
  },
  "language_info": {
   "codemirror_mode": {
    "name": "ipython",
    "version": 3
   },
   "file_extension": ".py",
   "mimetype": "text/x-python",
   "name": "python",
   "nbconvert_exporter": "python",
   "pygments_lexer": "ipython3",
   "version": "3.9.12"
  }
 },
 "nbformat": 4,
 "nbformat_minor": 5
}
