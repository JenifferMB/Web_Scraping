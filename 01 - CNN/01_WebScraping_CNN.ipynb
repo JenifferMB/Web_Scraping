{
 "cells": [
  {
   "cell_type": "code",
   "execution_count": 2,
   "id": "1bfe2ccd",
   "metadata": {},
   "outputs": [],
   "source": [
    "from bs4 import BeautifulSoup\n",
    "import pandas as pd\n",
    "import requests\n",
    "from datetime import datetime"
   ]
  },
  {
   "cell_type": "code",
   "execution_count": 3,
   "id": "baecbcb7",
   "metadata": {},
   "outputs": [
    {
     "name": "stdout",
     "output_type": "stream",
     "text": [
      "<Response [200]>\n"
     ]
    }
   ],
   "source": [
    "URL = 'https://www.cnnbrasil.com.br/'\n",
    "page = requests.get(URL)\n",
    "print(page)"
   ]
  },
  {
   "cell_type": "code",
   "execution_count": 4,
   "id": "27957e2e",
   "metadata": {},
   "outputs": [
    {
     "name": "stdout",
     "output_type": "stream",
     "text": [
      "<h3 class=\"block__news__title\">THAIS HERÉDIA: FMI dá respaldo a medidas \"ousadas\" de Caputo na Argentina</h3>\n"
     ]
    }
   ],
   "source": [
    "#find\n",
    "soup = BeautifulSoup(page.content)\n",
    "first_element = soup.find('h3')\n",
    "#first_element = soup.find('h2', class='block__news__title')\n",
    "print(first_element)"
   ]
  },
  {
   "cell_type": "code",
   "execution_count": 5,
   "id": "105f9402",
   "metadata": {},
   "outputs": [
    {
     "name": "stdout",
     "output_type": "stream",
     "text": [
      "THAIS HERÉDIA: FMI dá respaldo a medidas \"ousadas\" de Caputo na Argentina\n"
     ]
    }
   ],
   "source": [
    "print(first_element.text)"
   ]
  },
  {
   "cell_type": "code",
   "execution_count": 6,
   "id": "2a0fba13",
   "metadata": {},
   "outputs": [
    {
     "name": "stdout",
     "output_type": "stream",
     "text": [
      "[<h3 class=\"block__news__title\">THAIS HERÉDIA: FMI dá respaldo a medidas \"ousadas\" de Caputo na Argentina</h3>, <h3 class=\"block__news__title\">Veja cada uma das medidas anunciadas para a economia da Argentina</h3>, <h3 class=\"block__news__title\">\"Fogo amigo\" matou 13 soldados israelenses na guerra</h3>, <h3 class=\"block__news__title\">Israel diz que 19 reféns do Hamas em Gaza foram mortos</h3>, <h3 class=\"block__news__title\"> Veja o momento em que Roberto Kalil, médico de Lula, é assaltado em São Paulo </h3>, <h3 class=\"block__news__title\"> Senado aprova texto-base de projeto que taxa mercado de apostas esportivas online </h3>, <h3 class=\"block__news__title\"> Onda de calor: 15 estados e o DF estão em alerta; temperaturas podem passar de 40ºC </h3>, <h3 class=\"block__news__title\"> PF pede a Alexandre de Moraes para prorrogar de novo inquérito das milícias digitais </h3>, <h3 class=\"block__news__title\"> Lula critica CPI, pede moderação e sugere mediação federal para caso Braskem </h3>, <h3 class=\"block__news__title\"> Veja quem é Renato Cariani, influenciador digital que foi alvo de operação da PF </h3>, <h3 class=\"block__news__title\"> Venezuela deve respeitar nossos recursos energéticos, diz presidente da Guiana à CNN </h3>, <h3 class=\"block__news__title\"> Miniguia da Ilha de Páscoa, onde a história, o misticismo e as tradições se mesclam </h3>, <h3 class=\"block__news__title\"> ONU aprova resolução que exige cessar-fogo entre Israel e Hamas </h3>, <h3 class=\"block__news__title\"> Milei suspende verba pública para publicidade na mídia por um ano </h3>, <h3 class=\"block__news__title\"> Rússia perdeu 90% das tropas na Ucrânia, dizem Estados Unidos </h3>, <h3 class=\"block__news__title\"> Vaticano muda orientação sobre cinzas dos mortos </h3>, <h3 class=\"block__news__title\"> Principal operadora de rede móvel da Ucrânia sofre ataque cibernético </h3>, <h3 class=\"block__news__title\"> Fluminense embarca ao Mundial de Clubes com apoio da torcida </h3>, <h3 class=\"block__news__title\"> Grupo City pretende investir R$ 320 milhões no Bahia, diz presidente </h3>, <h3 class=\"block__news__title\"> Mundial: Al-Ittihad vence com gols de Benzema, Romarinho e Kanté </h3>, <h3 class=\"block__news__title\"> Presidente de clube da Turquia renuncia após bater em árbitro </h3>, <h3 class=\"block__news__title\"> Lei Vini Jr contra racismo em estádios é sancionada na Paraíba </h3>, <h3 class=\"block__news__title\"> Hilary Duff anuncia estar grávida do quarto filho: \"Surpresa\" </h3>, <h3 class=\"block__news__title\"> Instagram vai exibir quem viu seu perfil? Empresa responde </h3>, <h3 class=\"block__news__title\"> Palomma Duarte e Bruno Ferrari agitam redes sociais com foto sensual </h3>, <h3 class=\"block__news__title\"> Fernanda Souza diz que fez sinastria amorosa com namorada; entenda </h3>, <h3 class=\"block__news__title\"> Angélica diz o que pensa de Janja e cita possível candidatura de Huck </h3>, <h3 class=\"block__news__title\"> FMI dá respaldo a medidas “ousadas” de Luis Caputo na Argentina </h3>, <h3 class=\"block__news__title\"> Dólar a 800 pesos e fim de obras públicas: veja as medidas anunciadas para a economia da Argentina </h3>, <h3 class=\"block__news__title\"> Caputo anuncia forte desvalorização do peso e corte de subsídios para conter crise na Argentina </h3>, <h3 class=\"block__news__title\"> Lula questiona: se for necessário se endividar para crescer, qual é o problema? </h3>, <h3 class=\"block__news__title\"> Senado aprova indicação de Rodrigo Teixeira e Paulo Picchetti para diretoria do Banco Central </h3>, <h3 class=\"block__news__title\"> Passagem aérea sobe pelo 4º mês seguido e atinge maior valor desde 2009 </h3>, <h3 class=\"block__news__title\"> Pessoas estão fazendo móveis de papelão – veja com que eles se parecem </h3>, <h3 class=\"block__news__title\"> Ibirapuera é um dos 10 parques com mais destaque no Google Maps em 2023; veja a lista </h3>, <h3 class=\"block__news__title\"> Concorrido Shihoma Pasta Fresca inaugura carta de drinques por Mari Mesquita </h3>, <h3 class=\"block__news__title\"> Veja como visitar uma verdadeira \"Toca de Hobbit\" na Nova Zelândia </h3>, <h3 class=\"block__news__title\"> Culinária espanhola: veja 14 pratos - entre salgados e doces - que vão marcar seu paladar </h3>, <h3 class=\"block__news__title\"> Guia Salvador: o que visitar, onde comer e onde se hospedar na capital da Bahia </h3>, <h3 class=\"block__news__title\"> Panetones sem glúten, lactose e açúcar refinado ganham as prateleiras de São Paulo </h3>, <h3 class=\"block__news__title\"> Saiba quem é Renato Cariani, influenciador alvo da PF em operação contra tráfico de drogas </h3>, <h3 class=\"block__news__title\"> Mundial de Clubes: datas, horários e onde assistir ao torneio </h3>, <h3 class=\"block__news__title\"> \"Não tenho noção do que está acontecendo\", diz Renato Cariani à CNN após ação da PF </h3>, <h3 class=\"block__news__title\"> Benzema escala seleção dos sonhos sem Messi e Cristiano Ronaldo; veja o time </h3>, <h3 class=\"block__news__title\"> Renato Cariani teve pedido de prisão negado pela Justiça, diz PF </h3>, <h3 class=\"block__news__title\"> Caso Hadassa: veja o que se sabe sobre a menina estuprada e morta no RJ </h3>, <h3 class=\"block__news__title\"> Como é a Guiana? Conheça mais sobre a população, línguas e território </h3>, <h3 class=\"block__news__title\"> Cativeiro do Hamas em Gaza é “roleta-russa”, diz refém israelense libertada </h3>, <h3 class=\"block__news__title\"> Mundial de Clubes: veja a lista de todos os campeões do torneio </h3>, <h3 class=\"block__news__title\"> AGU notifica X contra invasão hacker ao perfil de Janja </h3>, <h3 class=\"block__news__title\"> Ana Hickmann acusa marido por sumiço de R$ 25 milhões das empresas do casal | LIVE CNN </h3>, <h3 class=\"block__news__title\"> Polícia prende suspeitos por agressão a idoso no Rio | BRASIL MEIO-DIA </h3>, <h3 class=\"block__news__title\"> \"Justiceiros\" são milícias, diz coronel e ex-comandante-geral da PM do RJ à CNN | BRASIL MEIO-DIA </h3>, <h3 class=\"block__news__title\"> Pacheco sobre dívida de MG: Estamos lidando com um problema gravíssimo | LIVE CNN </h3>, <h3 class=\"block__news__title\"> Idoso agredido presta depoimento à polícia do Rio | CNN PRIME TIME </h3>, <h3 class=\"block__news__title\"> Lula: ONU não está cumprindo seu papel histórico | CNN PRIME TIME </h3>, <h3 class=\"block__news__title\"> Lula assina 19 acordos de cooperação na Alemanha | CNN PRIME TIME </h3>, <h3 class=\"block__news__title\"> Fux atende pedido da PGR para investigar Janones | CNN ARENA </h3>, <h3 class=\"block__news__title\"> Relator dá parecer favorável à aprovação de Dino | CNN Arena </h3>, <h3 class=\"block__news__title\"> Prefeito de Maceió fala em \"repensar\" cidade devido a impactos de colapso de mina | BASTIDORES CNN </h3>, <h3 class=\"block__news__title\"> HBO confirma novas temporadas de séries para 2024 </h3>, <h3 class=\"block__news__title\"> Confira os filmes com as maiores bilheterias do ano </h3>, <h3 class=\"block__news__title\"> Olivia Rodrigo tem o melhor álbum de 2023 segundo a Billboard </h3>, <h3 class=\"block__news__title\"> Atores de “Harry Potter” são os mais buscados na história do Google </h3>, <h3 class=\"block__news__title\"> Taylor Swift é compositora mais buscada na história do Google </h3>, <h3 class=\"block__news__title\"> Vacina para gestantes contra vírus Zika está em desenvolvimento </h3>, <h3 class=\"block__news__title\"> Pix Automático: BC divulga regras de nova função de pagamentos </h3>, <h3 class=\"block__news__title\"> Memória muscular: quanto tempo o corpo leva para esquecer o treino </h3>, <h3 class=\"block__news__title\"> O que é o Banco Central da Argentina e por que Milei quer fechá-lo? </h3>, <h3 class=\"block__news__title\"> Como a privatização da Sabesp pode impactar a vida dos consumidores </h3>, <h3 class=\"block__news__title\"> Copa América 2024: Brasil cai na chave de algoz recente </h3>, <h3 class=\"block__news__title\"> Feminicídios cresceram 18% nos últimos 5 anos no Brasil, aponta estudo </h3>, <h3 class=\"block__news__title\"> Principal operadora de rede móvel da Ucrânia é atingida por ataque cibernético </h3>, <h3 class=\"block__news__title\"> Israel começa a inundar túneis do Hamas com água do mar, diz autoridade dos EUA </h3>, <h3 class=\"block__news__title\"> Venezuela deve respeitar nossos recursos energéticos, diz presidente da Guiana à CNN </h3>, <h3 class=\"block__news__title\"> Guerra de Israel: Assembleia-Geral da ONU aprova resolução exigindo cessar-fogo </h3>, <h3 class=\"block__news__title\"> Doenças como catapora, meningite e outras infecções se espalharam em Gaza, diz OMS </h3>, <h3 class=\"block__news__title\"> Vereditos de grande julgamento de corrupção no Vaticano serão anunciados no sábado (16) </h3>, <h3 class=\"block__news__title\"> Câmara de São Paulo aprova revisão da Lei de Zoneamento </h3>, <h3 class=\"block__news__title\"> Senado aprova taxação de mercado de apostas esportivas; jogos de azar virtuais ficam de fora </h3>, <h3 class=\"block__news__title\"> Cúpula do Congresso reclama de falhas na articulação do governo e sinaliza que pauta econômica terá dificuldade em avançar </h3>, <h3 class=\"block__news__title\"> PF pede a Moraes para prorrogar de novo inquérito das milícias digitais </h3>, <h3 class=\"block__news__title\"> Negociações avançam para que a Câmara possa votar reforma tributária ainda nesta semana, diz Arthur Lira </h3>, <h3 class=\"block__news__title\"> PF cumpre quatro mandados de busca e apreensão no caso de conta hackeada de Janja </h3>, <h3 class=\"block__news__title\"> OMS libera leite de vaca para bebês de 6 a 11 meses que não mamam </h3>, <h3 class=\"block__news__title\"> TikToker viraliza ao descobrir que bebês não devem beber água ou correm riscos; veja </h3>, <h3 class=\"block__news__title\"> Dezembro Laranja: Radiação solar é a principal causa do câncer de pele; saiba como se proteger </h3>, <h3 class=\"block__news__title\"> ChatGPT falha ao responder perguntas sobre remédios, diz estudo </h3>, <h3 class=\"block__news__title\"> “Última cartada” da década, teste de vacina contra HIV é interrompido após resultados ruins </h3>, <h3 class=\"block__news__title\"> Como proteger a pele de queimaduras do sol? Veja dicas para evitar danos </h3>, <h3 class=\"block__news__title\"> Gilberto Gil comemora fim do tratamento de Preta: “Melhor notícia do ano” </h3>, <h3 class=\"block__news__title\"> 74% das pessoas são contra uso de IA para recriar vozes na música, diz pesquisa </h3>, <h3 class=\"block__news__title\"> Hilary Duff anuncia que está grávida do quarto filho: “Surpresa” </h3>, <h3 class=\"block__news__title\"> “Onze Homens e Um Segredo”: George Clooney aprova Ryan Gosling como seu pai em novo filme </h3>, <h3 class=\"block__news__title\"> Diretor diz que greve de Hollywood fez “Deadpool 3” ficar melhor </h3>, <h3 class=\"block__news__title\"> Zendaya e Timothée Chalamet vivem romance em novo trailer de “Duna: Parte 2” </h3>, <h3 class=\"block__news__title\"> Polícia prende traficante internacional de drogas no rio Solimões </h3>, <h3 class=\"block__news__title\"> Irmão de traficante foi nomeado gerente de inteligência no governo do AM </h3>, <h3 class=\"block__news__title\"> Onda de calor: temperaturas podem passar dos 40ºC </h3>, <h3 class=\"block__news__title\"> Podcast: Lula reúne adversários políticos para tratar de caso Braskem </h3>, <h3 class=\"block__news__title\"> RJ: secretário de Segurança admite que estado precisa de mais 25 mil policiais </h3>, <h3 class=\"block__news__title\"> Suspeito de assaltar Dr. Roberto Kalil é preso na grande SP </h3>, <h3 class=\"block__news__title\"> Instagram vai exibir quem viu seu perfil? Empresa responde rumores </h3>, <h3 class=\"block__news__title\"> Aprenda a proteger seu cartão de golpes por aproximação </h3>, <h3 class=\"block__news__title\"> Uber Pet: app anuncia nova categoria para animais acompanhados </h3>, <h3 class=\"block__news__title\"> Saiba como assistir à nova tentativa de lançamento do avião espacial X-37B </h3>, <h3 class=\"block__news__title\"> Precisamos de leis para regular inteligência artificial e plataformas, diz especialista </h3>, <h3 class=\"block__news__title\"> SpaceX adia lançamento de avião espacial por problemas técnicos </h3>]\n"
     ]
    }
   ],
   "source": [
    "#find_all\n",
    "all_elements = soup.find_all('h3')\n",
    "print(all_elements)"
   ]
  },
  {
   "cell_type": "code",
   "execution_count": 7,
   "id": "23b1cbb6",
   "metadata": {},
   "outputs": [
    {
     "name": "stdout",
     "output_type": "stream",
     "text": [
      "['THAIS HERÉDIA: FMI dá respaldo a medidas \"ousadas\" de Caputo na Argentina', 'Veja cada uma das medidas anunciadas para a economia da Argentina', '\"Fogo amigo\" matou 13 soldados israelenses na guerra', 'Israel diz que 19 reféns do Hamas em Gaza foram mortos', ' Veja o momento em que Roberto Kalil, médico de Lula, é assaltado em São Paulo ', ' Senado aprova texto-base de projeto que taxa mercado de apostas esportivas online ', ' Onda de calor: 15 estados e o DF estão em alerta; temperaturas podem passar de 40ºC ', ' PF pede a Alexandre de Moraes para prorrogar de novo inquérito das milícias digitais ', ' Lula critica CPI, pede moderação e sugere mediação federal para caso Braskem ', ' Veja quem é Renato Cariani, influenciador digital que foi alvo de operação da PF ', ' Venezuela deve respeitar nossos recursos energéticos, diz presidente da Guiana à CNN ', ' Miniguia da Ilha de Páscoa, onde a história, o misticismo e as tradições se mesclam ', ' ONU aprova resolução que exige cessar-fogo entre Israel e Hamas ', ' Milei suspende verba pública para publicidade na mídia por um ano ', ' Rússia perdeu 90% das tropas na Ucrânia, dizem Estados Unidos ', ' Vaticano muda orientação sobre cinzas dos mortos ', ' Principal operadora de rede móvel da Ucrânia sofre ataque cibernético ', ' Fluminense embarca ao Mundial de Clubes com apoio da torcida ', ' Grupo City pretende investir R$ 320 milhões no Bahia, diz presidente ', ' Mundial: Al-Ittihad vence com gols de Benzema, Romarinho e Kanté ', ' Presidente de clube da Turquia renuncia após bater em árbitro ', ' Lei Vini Jr contra racismo em estádios é sancionada na Paraíba ', ' Hilary Duff anuncia estar grávida do quarto filho: \"Surpresa\" ', ' Instagram vai exibir quem viu seu perfil? Empresa responde ', ' Palomma Duarte e Bruno Ferrari agitam redes sociais com foto sensual ', ' Fernanda Souza diz que fez sinastria amorosa com namorada; entenda ', ' Angélica diz o que pensa de Janja e cita possível candidatura de Huck ', ' FMI dá respaldo a medidas “ousadas” de Luis Caputo na Argentina ', ' Dólar a 800 pesos e fim de obras públicas: veja as medidas anunciadas para a economia da Argentina ', ' Caputo anuncia forte desvalorização do peso e corte de subsídios para conter crise na Argentina ', ' Lula questiona: se for necessário se endividar para crescer, qual é o problema? ', ' Senado aprova indicação de Rodrigo Teixeira e Paulo Picchetti para diretoria do Banco Central ', ' Passagem aérea sobe pelo 4º mês seguido e atinge maior valor desde 2009 ', ' Pessoas estão fazendo móveis de papelão – veja com que eles se parecem ', ' Ibirapuera é um dos 10 parques com mais destaque no Google Maps em 2023; veja a lista ', ' Concorrido Shihoma Pasta Fresca inaugura carta de drinques por Mari Mesquita ', ' Veja como visitar uma verdadeira \"Toca de Hobbit\" na Nova Zelândia ', ' Culinária espanhola: veja 14 pratos - entre salgados e doces - que vão marcar seu paladar ', ' Guia Salvador: o que visitar, onde comer e onde se hospedar na capital da Bahia ', ' Panetones sem glúten, lactose e açúcar refinado ganham as prateleiras de São Paulo ', ' Saiba quem é Renato Cariani, influenciador alvo da PF em operação contra tráfico de drogas ', ' Mundial de Clubes: datas, horários e onde assistir ao torneio ', ' \"Não tenho noção do que está acontecendo\", diz Renato Cariani à CNN após ação da PF ', ' Benzema escala seleção dos sonhos sem Messi e Cristiano Ronaldo; veja o time ', ' Renato Cariani teve pedido de prisão negado pela Justiça, diz PF ', ' Caso Hadassa: veja o que se sabe sobre a menina estuprada e morta no RJ ', ' Como é a Guiana? Conheça mais sobre a população, línguas e território ', ' Cativeiro do Hamas em Gaza é “roleta-russa”, diz refém israelense libertada ', ' Mundial de Clubes: veja a lista de todos os campeões do torneio ', ' AGU notifica X contra invasão hacker ao perfil de Janja ', ' Ana Hickmann acusa marido por sumiço de R$ 25 milhões das empresas do casal | LIVE CNN ', ' Polícia prende suspeitos por agressão a idoso no Rio | BRASIL MEIO-DIA ', ' \"Justiceiros\" são milícias, diz coronel e ex-comandante-geral da PM do RJ à CNN | BRASIL MEIO-DIA ', ' Pacheco sobre dívida de MG: Estamos lidando com um problema gravíssimo | LIVE CNN ', ' Idoso agredido presta depoimento à polícia do Rio | CNN PRIME TIME ', ' Lula: ONU não está cumprindo seu papel histórico | CNN PRIME TIME ', ' Lula assina 19 acordos de cooperação na Alemanha | CNN PRIME TIME ', ' Fux atende pedido da PGR para investigar Janones | CNN ARENA ', ' Relator dá parecer favorável à aprovação de Dino | CNN Arena ', ' Prefeito de Maceió fala em \"repensar\" cidade devido a impactos de colapso de mina | BASTIDORES CNN ', ' HBO confirma novas temporadas de séries para 2024 ', ' Confira os filmes com as maiores bilheterias do ano ', ' Olivia Rodrigo tem o melhor álbum de 2023 segundo a Billboard ', ' Atores de “Harry Potter” são os mais buscados na história do Google ', ' Taylor Swift é compositora mais buscada na história do Google ', ' Vacina para gestantes contra vírus Zika está em desenvolvimento ', ' Pix Automático: BC divulga regras de nova função de pagamentos ', ' Memória muscular: quanto tempo o corpo leva para esquecer o treino ', ' O que é o Banco Central da Argentina e por que Milei quer fechá-lo? ', ' Como a privatização da Sabesp pode impactar a vida dos consumidores ', ' Copa América 2024: Brasil cai na chave de algoz recente ', ' Feminicídios cresceram 18% nos últimos 5 anos no Brasil, aponta estudo ', ' Principal operadora de rede móvel da Ucrânia é atingida por ataque cibernético ', ' Israel começa a inundar túneis do Hamas com água do mar, diz autoridade dos EUA ', ' Venezuela deve respeitar nossos recursos energéticos, diz presidente da Guiana à CNN ', ' Guerra de Israel: Assembleia-Geral da ONU aprova resolução exigindo cessar-fogo ', ' Doenças como catapora, meningite e outras infecções se espalharam em Gaza, diz OMS ', ' Vereditos de grande julgamento de corrupção no Vaticano serão anunciados no sábado (16) ', ' Câmara de São Paulo aprova revisão da Lei de Zoneamento ', ' Senado aprova taxação de mercado de apostas esportivas; jogos de azar virtuais ficam de fora ', ' Cúpula do Congresso reclama de falhas na articulação do governo e sinaliza que pauta econômica terá dificuldade em avançar ', ' PF pede a Moraes para prorrogar de novo inquérito das milícias digitais ', ' Negociações avançam para que a Câmara possa votar reforma tributária ainda nesta semana, diz Arthur Lira ', ' PF cumpre quatro mandados de busca e apreensão no caso de conta hackeada de Janja ', ' OMS libera leite de vaca para bebês de 6 a 11 meses que não mamam ', ' TikToker viraliza ao descobrir que bebês não devem beber água ou correm riscos; veja ', ' Dezembro Laranja: Radiação solar é a principal causa do câncer de pele; saiba como se proteger ', ' ChatGPT falha ao responder perguntas sobre remédios, diz estudo ', ' “Última cartada” da década, teste de vacina contra HIV é interrompido após resultados ruins ', ' Como proteger a pele de queimaduras do sol? Veja dicas para evitar danos ', ' Gilberto Gil comemora fim do tratamento de Preta: “Melhor notícia do ano” ', ' 74% das pessoas são contra uso de IA para recriar vozes na música, diz pesquisa ', ' Hilary Duff anuncia que está grávida do quarto filho: “Surpresa” ', ' “Onze Homens e Um Segredo”: George Clooney aprova Ryan Gosling como seu pai em novo filme ', ' Diretor diz que greve de Hollywood fez “Deadpool 3” ficar melhor ', ' Zendaya e Timothée Chalamet vivem romance em novo trailer de “Duna: Parte 2” ', ' Polícia prende traficante internacional de drogas no rio Solimões ', ' Irmão de traficante foi nomeado gerente de inteligência no governo do AM ', ' Onda de calor: temperaturas podem passar dos 40ºC ', ' Podcast: Lula reúne adversários políticos para tratar de caso Braskem ', ' RJ: secretário de Segurança admite que estado precisa de mais 25 mil policiais ', ' Suspeito de assaltar Dr. Roberto Kalil é preso na grande SP ', ' Instagram vai exibir quem viu seu perfil? Empresa responde rumores ', ' Aprenda a proteger seu cartão de golpes por aproximação ', ' Uber Pet: app anuncia nova categoria para animais acompanhados ', ' Saiba como assistir à nova tentativa de lançamento do avião espacial X-37B ', ' Precisamos de leis para regular inteligência artificial e plataformas, diz especialista ', ' SpaceX adia lançamento de avião espacial por problemas técnicos ']\n"
     ]
    }
   ],
   "source": [
    "headline = [item.text for item in all_elements]\n",
    "print(headline)"
   ]
  },
  {
   "cell_type": "code",
   "execution_count": 8,
   "id": "af19ca17",
   "metadata": {},
   "outputs": [
    {
     "name": "stdout",
     "output_type": "stream",
     "text": [
      "['THAIS HERÉDIA: FMI dá respaldo a medidas \"ousadas\" de Caputo na Argentina', 'Veja cada uma das medidas anunciadas para a economia da Argentina', '\"Fogo amigo\" matou 13 soldados israelenses na guerra', 'Israel diz que 19 reféns do Hamas em Gaza foram mortos', 'Veja o momento em que Roberto Kalil, médico de Lula, é assaltado em São Paulo', 'Senado aprova texto-base de projeto que taxa mercado de apostas esportivas online', 'Onda de calor: 15 estados e o DF estão em alerta; temperaturas podem passar de 4', 'PF pede a Alexandre de Moraes para prorrogar de novo inquérito das milícias digitais', 'Lula critica CPI, pede moderação e sugere mediação federal para caso Braskem', 'Veja quem é Renato Cariani, influenciador digital que foi alvo de operação da PF', 'Venezuela deve respeitar nossos recursos energéticos, diz presidente da Guiana à', 'Miniguia da Ilha de Páscoa, onde a história, o misticismo e as tradições se mesclam', 'ONU aprova resolução que exige cessar-fogo entre Israel e Hamas', 'Milei suspende verba pública para publicidade na mídia por um ano', 'Rússia perdeu 90% das tropas na Ucrânia, dizem Estados Unidos', 'Vaticano muda orientação sobre cinzas dos mortos', 'Principal operadora de rede móvel da Ucrânia sofre ataque cibernético', 'Fluminense embarca ao Mundial de Clubes com apoio da torcida', 'Grupo City pretende investir R$ 320 milhões no Bahia, diz presidente', 'Mundial: Al-Ittihad vence com gols de Benzema, Romarinho e Kanté', 'Presidente de clube da Turquia renuncia após bater em árbitro', 'Lei Vini Jr contra racismo em estádios é sancionada na Paraíba', 'Hilary Duff anuncia estar grávida do quarto filho: \"Surpresa\"', 'Instagram vai exibir quem viu seu perfil? Empresa responde', 'Palomma Duarte e Bruno Ferrari agitam redes sociais com foto sensual', 'Fernanda Souza diz que fez sinastria amorosa com namorada; entenda', 'Angélica diz o que pensa de Janja e cita possível candidatura de Huck', 'FMI dá respaldo a medidas “ousadas” de Luis Caputo na Argentina', 'Dólar a 800 pesos e fim de obras públicas: veja as medidas anunciadas para a economia da Argentina', 'aputo anuncia forte desvalorização do peso e corte de subsídios para conter crise na Argentina', 'Lula questiona: se for necessário se endividar para crescer, qual é o problema?', 'Senado aprova indicação de Rodrigo Teixeira e Paulo Picchetti para diretoria do Banco Central', 'Passagem aérea sobe pelo 4º mês seguido e atinge maior valor desde 2009', 'Pessoas estão fazendo móveis de papelão – veja com que eles se parecem', 'Ibirapuera é um dos 10 parques com mais destaque no Google Maps em 2023; veja a lista', 'oncorrido Shihoma Pasta Fresca inaugura carta de drinques por Mari Mesquita', 'Veja como visitar uma verdadeira \"Toca de Hobbit\" na Nova Zelândia', 'ulinária espanhola: veja 14 pratos - entre salgados e doces - que vão marcar seu paladar', 'Guia Salvador: o que visitar, onde comer e onde se hospedar na capital da Bahia', 'Panetones sem glúten, lactose e açúcar refinado ganham as prateleiras de São Paulo', 'Saiba quem é Renato Cariani, influenciador alvo da PF em operação contra tráfico de drogas', 'Mundial de Clubes: datas, horários e onde assistir ao torneio', '\"Não tenho noção do que está acontecendo\", diz Renato Cariani à CNN após ação da PF', 'Benzema escala seleção dos sonhos sem Messi e Cristiano Ronaldo; veja o time', 'Renato Cariani teve pedido de prisão negado pela Justiça, diz PF', 'aso Hadassa: veja o que se sabe sobre a menina estuprada e morta no RJ', 'omo é a Guiana? Conheça mais sobre a população, línguas e território', 'ativeiro do Hamas em Gaza é “roleta-russa”, diz refém israelense libertada', 'Mundial de Clubes: veja a lista de todos os campeões do torneio', 'AGU notifica X contra invasão hacker ao perfil de Janja', 'Ana Hickmann acusa marido por sumiço de R$ 25 milhões das empresas do casal | LIVE', 'Polícia prende suspeitos por agressão a idoso no Rio | BRASIL MEIO-DIA', '\"Justiceiros\" são milícias, diz coronel e ex-comandante-geral da PM do RJ à CNN | BRASIL MEIO-DIA', 'Pacheco sobre dívida de MG: Estamos lidando com um problema gravíssimo | LIVE', 'Idoso agredido presta depoimento à polícia do Rio | CNN PRIME TIME', 'Lula: ONU não está cumprindo seu papel histórico | CNN PRIME TIME', 'Lula assina 19 acordos de cooperação na Alemanha | CNN PRIME TIME', 'Fux atende pedido da PGR para investigar Janones | CNN ARENA', 'Relator dá parecer favorável à aprovação de Dino | CNN Arena', 'Prefeito de Maceió fala em \"repensar\" cidade devido a impactos de colapso de mina | BASTIDORES', 'HBO confirma novas temporadas de séries para 2024', 'onfira os filmes com as maiores bilheterias do ano', 'Olivia Rodrigo tem o melhor álbum de 2023 segundo a Billboard', 'Atores de “Harry Potter” são os mais buscados na história do Google', 'Taylor Swift é compositora mais buscada na história do Google', 'Vacina para gestantes contra vírus Zika está em desenvolvimento', 'Pix Automático: BC divulga regras de nova função de pagamentos', 'Memória muscular: quanto tempo o corpo leva para esquecer o treino', 'O que é o Banco Central da Argentina e por que Milei quer fechá-lo?', 'omo a privatização da Sabesp pode impactar a vida dos consumidores', 'opa América 2024: Brasil cai na chave de algoz recente', 'Feminicídios cresceram 18% nos últimos 5 anos no Brasil, aponta estudo', 'Principal operadora de rede móvel da Ucrânia é atingida por ataque cibernético', 'Israel começa a inundar túneis do Hamas com água do mar, diz autoridade dos EUA', 'Venezuela deve respeitar nossos recursos energéticos, diz presidente da Guiana à', 'Guerra de Israel: Assembleia-Geral da ONU aprova resolução exigindo cessar-fogo', 'Doenças como catapora, meningite e outras infecções se espalharam em Gaza, diz OMS', 'Vereditos de grande julgamento de corrupção no Vaticano serão anunciados no sábado (16)', 'âmara de São Paulo aprova revisão da Lei de Zoneamento', 'Senado aprova taxação de mercado de apostas esportivas; jogos de azar virtuais ficam de fora', 'úpula do Congresso reclama de falhas na articulação do governo e sinaliza que pauta econômica terá dificuldade em avançar', 'PF pede a Moraes para prorrogar de novo inquérito das milícias digitais', 'egociações avançam para que a Câmara possa votar reforma tributária ainda nesta semana, diz Arthur Lira', 'PF cumpre quatro mandados de busca e apreensão no caso de conta hackeada de Janja', 'OMS libera leite de vaca para bebês de 6 a 11 meses que não mamam', 'TikToker viraliza ao descobrir que bebês não devem beber água ou correm riscos; veja', 'Dezembro Laranja: Radiação solar é a principal causa do câncer de pele; saiba como se proteger', 'hatGPT falha ao responder perguntas sobre remédios, diz estudo', '“Última cartada” da década, teste de vacina contra HIV é interrompido após resultados ruins', 'omo proteger a pele de queimaduras do sol? Veja dicas para evitar danos', 'Gilberto Gil comemora fim do tratamento de Preta: “Melhor notícia do ano”', '74% das pessoas são contra uso de IA para recriar vozes na música, diz pesquisa', 'Hilary Duff anuncia que está grávida do quarto filho: “Surpresa”', '“Onze Homens e Um Segredo”: George Clooney aprova Ryan Gosling como seu pai em novo filme', 'Diretor diz que greve de Hollywood fez “Deadpool 3” ficar melhor', 'Zendaya e Timothée Chalamet vivem romance em novo trailer de “Duna: Parte 2”', 'Polícia prende traficante internacional de drogas no rio Solimões', 'Irmão de traficante foi nomeado gerente de inteligência no governo do AM', 'Onda de calor: temperaturas podem passar dos 4', 'Podcast: Lula reúne adversários políticos para tratar de caso Braskem', 'RJ: secretário de Segurança admite que estado precisa de mais 25 mil policiais', 'Suspeito de assaltar Dr. Roberto Kalil é preso na grande SP', 'Instagram vai exibir quem viu seu perfil? Empresa responde rumores', 'Aprenda a proteger seu cartão de golpes por aproximação', 'Uber Pet: app anuncia nova categoria para animais acompanhados', 'Saiba como assistir à nova tentativa de lançamento do avião espacial X-37B', 'Precisamos de leis para regular inteligência artificial e plataformas, diz especialista', 'SpaceX adia lançamento de avião espacial por problemas técnicos']\n"
     ]
    }
   ],
   "source": [
    "clear_text = [text.strip(\" ', ' \") and text.strip(\" | CNN 360º\")for text in headline]\n",
    "print(clear_text)"
   ]
  },
  {
   "cell_type": "code",
   "execution_count": 9,
   "id": "ffd13607",
   "metadata": {},
   "outputs": [],
   "source": [
    "actual_date = datetime.now().strftime(\"%d/%m/%Y %H:%M:%S\")\n",
    "\n",
    "df = pd.DataFrame({\"Text\": clear_text})\n",
    "df.rename(columns={\"Text\": actual_date}, inplace=True)"
   ]
  },
  {
   "cell_type": "code",
   "execution_count": 10,
   "id": "356d5e16",
   "metadata": {},
   "outputs": [
    {
     "data": {
      "text/html": [
       "<div>\n",
       "<style scoped>\n",
       "    .dataframe tbody tr th:only-of-type {\n",
       "        vertical-align: middle;\n",
       "    }\n",
       "\n",
       "    .dataframe tbody tr th {\n",
       "        vertical-align: top;\n",
       "    }\n",
       "\n",
       "    .dataframe thead th {\n",
       "        text-align: right;\n",
       "    }\n",
       "</style>\n",
       "<table border=\"1\" class=\"dataframe\">\n",
       "  <thead>\n",
       "    <tr style=\"text-align: right;\">\n",
       "      <th></th>\n",
       "      <th>12/12/2023 22:05:24</th>\n",
       "    </tr>\n",
       "  </thead>\n",
       "  <tbody>\n",
       "    <tr>\n",
       "      <th>0</th>\n",
       "      <td>THAIS HERÉDIA: FMI dá respaldo a medidas \"ousa...</td>\n",
       "    </tr>\n",
       "    <tr>\n",
       "      <th>1</th>\n",
       "      <td>Veja cada uma das medidas anunciadas para a ec...</td>\n",
       "    </tr>\n",
       "    <tr>\n",
       "      <th>2</th>\n",
       "      <td>\"Fogo amigo\" matou 13 soldados israelenses na ...</td>\n",
       "    </tr>\n",
       "    <tr>\n",
       "      <th>3</th>\n",
       "      <td>Israel diz que 19 reféns do Hamas em Gaza fora...</td>\n",
       "    </tr>\n",
       "    <tr>\n",
       "      <th>4</th>\n",
       "      <td>Veja o momento em que Roberto Kalil, médico de...</td>\n",
       "    </tr>\n",
       "    <tr>\n",
       "      <th>...</th>\n",
       "      <td>...</td>\n",
       "    </tr>\n",
       "    <tr>\n",
       "      <th>103</th>\n",
       "      <td>Aprenda a proteger seu cartão de golpes por ap...</td>\n",
       "    </tr>\n",
       "    <tr>\n",
       "      <th>104</th>\n",
       "      <td>Uber Pet: app anuncia nova categoria para anim...</td>\n",
       "    </tr>\n",
       "    <tr>\n",
       "      <th>105</th>\n",
       "      <td>Saiba como assistir à nova tentativa de lançam...</td>\n",
       "    </tr>\n",
       "    <tr>\n",
       "      <th>106</th>\n",
       "      <td>Precisamos de leis para regular inteligência a...</td>\n",
       "    </tr>\n",
       "    <tr>\n",
       "      <th>107</th>\n",
       "      <td>SpaceX adia lançamento de avião espacial por p...</td>\n",
       "    </tr>\n",
       "  </tbody>\n",
       "</table>\n",
       "<p>108 rows × 1 columns</p>\n",
       "</div>"
      ],
      "text/plain": [
       "                                   12/12/2023 22:05:24\n",
       "0    THAIS HERÉDIA: FMI dá respaldo a medidas \"ousa...\n",
       "1    Veja cada uma das medidas anunciadas para a ec...\n",
       "2    \"Fogo amigo\" matou 13 soldados israelenses na ...\n",
       "3    Israel diz que 19 reféns do Hamas em Gaza fora...\n",
       "4    Veja o momento em que Roberto Kalil, médico de...\n",
       "..                                                 ...\n",
       "103  Aprenda a proteger seu cartão de golpes por ap...\n",
       "104  Uber Pet: app anuncia nova categoria para anim...\n",
       "105  Saiba como assistir à nova tentativa de lançam...\n",
       "106  Precisamos de leis para regular inteligência a...\n",
       "107  SpaceX adia lançamento de avião espacial por p...\n",
       "\n",
       "[108 rows x 1 columns]"
      ]
     },
     "execution_count": 10,
     "metadata": {},
     "output_type": "execute_result"
    }
   ],
   "source": [
    "df"
   ]
  }
 ],
 "metadata": {
  "kernelspec": {
   "display_name": "Python 3 (ipykernel)",
   "language": "python",
   "name": "python3"
  },
  "language_info": {
   "codemirror_mode": {
    "name": "ipython",
    "version": 3
   },
   "file_extension": ".py",
   "mimetype": "text/x-python",
   "name": "python",
   "nbconvert_exporter": "python",
   "pygments_lexer": "ipython3",
   "version": "3.9.12"
  }
 },
 "nbformat": 4,
 "nbformat_minor": 5
}
